{
  "metadata": {
    "language_info": {
      "codemirror_mode": {
        "name": "python",
        "version": 3
      },
      "file_extension": ".py",
      "mimetype": "text/x-python",
      "name": "python",
      "nbconvert_exporter": "python",
      "pygments_lexer": "ipython3",
      "version": "3.8"
    },
    "kernelspec": {
      "name": "python",
      "display_name": "Python (Pyodide)",
      "language": "python"
    }
  },
  "nbformat_minor": 4,
  "nbformat": 4,
  "cells": [
    {
      "cell_type": "markdown",
      "source": "01 - crie uma lista com quatro nomes, quatro endereços e quatro telefones.Montre a lista de forma formatada",
      "metadata": {}
    },
    {
      "cell_type": "code",
      "source": "",
      "metadata": {},
      "execution_count": null,
      "outputs": []
    },
    {
      "cell_type": "code",
      "source": " nome=[\n     \"gustavo\",\n     \"ana luzia\",\n     \"carlos\",\n     \"maria\"\n     ]\nidade=[\n    17,20,50,50\n    ]\nfone=[\n    \"99940-7070\",\n    \"93729-6000\",\n    \"97425-2020\",\n    \"97242-2034\"\n    ]\nx = 0\nprint(\"{:<12}{:<7}{:<0}\".format(\"nome\",\"idade\",\"telefone\"))\nprint(\"------------------------------\")\nwhile(x<=3):\n    print(\"{:<12}{:<7}{:<0}\".format(nome[x],idade[x],fone[x]))\n    x += 1\n\n     ",
      "metadata": {
        "trusted": true
      },
      "execution_count": 12,
      "outputs": [
        {
          "name": "stdout",
          "text": "nome        idade  telefone\n------------------------------\ngustavo     17     99940-7070\nana luzia   20     93729-6000\ncarlos      50     97425-2020\nmaria       50     97242-2034\n",
          "output_type": "stream"
        }
      ]
    },
    {
      "cell_type": "code",
      "source": "02 - crie um programa que mostre tres endereços, tres numeros, tres bairros e tre cidades:",
      "metadata": {},
      "execution_count": null,
      "outputs": []
    },
    {
      "cell_type": "code",
      "source": "endereco=[\n     \"rua de fevereiro\",\n     \"rua zeraldo\",\n     \"rua free fire\"\n     ]\nbairro=[\n    \"joao visto\",\n    \"alphavela\",\n    \"cheraldo\"\n    ]\nnumeros=[\n    \"22\",\n    \"22\",\n    \"22\"\n]\ncidade=[\n    \"itu\",\n    \"indaiatuba\",\n    \"salto\"\n    ]\nx = 0\nprint(\"|{:<20}|{:<15}|{:<15}|{:<0}|\".format(\"endereço\",\"bairro\",\"numeros\",\"cidade\"))\nprint(\"|--------------------+---------------+---------------+-----------|\")\nwhile(x<=2):\n    print(\"|{:<20}|{:<15}|{:<15}|{:<0}|\".format(endereco[x],bairro[x],numeros[x],cidade[x]))\n    x += 1\n",
      "metadata": {
        "trusted": true
      },
      "execution_count": 49,
      "outputs": [
        {
          "name": "stdout",
          "text": "|endereço            |bairro         |numeros        |cidade|\n|--------------------+---------------+---------------+-----------|\n|rua de fevereiro    |joao visto     |22             |itu|\n|rua zeraldo         |alphavela      |22             |indaiatuba|\n|rua free fire       |cheraldo       |22             |salto|\n",
          "output_type": "stream"
        }
      ]
    },
    {
      "cell_type": "code",
      "source": "",
      "metadata": {},
      "execution_count": null,
      "outputs": []
    },
    {
      "cell_type": "code",
      "source": "",
      "metadata": {},
      "execution_count": null,
      "outputs": []
    }
  ]
}
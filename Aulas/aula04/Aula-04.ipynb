{
  "metadata": {
    "language_info": {
      "codemirror_mode": {
        "name": "python",
        "version": 3
      },
      "file_extension": ".py",
      "mimetype": "text/x-python",
      "name": "python",
      "nbconvert_exporter": "python",
      "pygments_lexer": "ipython3",
      "version": "3.8"
    },
    "kernelspec": {
      "name": "python",
      "display_name": "Python (Pyodide)",
      "language": "python"
    }
  },
  "nbformat_minor": 4,
  "nbformat": 4,
  "cells": [
    {
      "cell_type": "markdown",
      "source": "01- crie um programa que conte de zero até cinco",
      "metadata": {}
    },
    {
      "cell_type": "code",
      "source": "x = 0\nwhile (x<=5):\n    print(x)\n    x += 1",
      "metadata": {
        "trusted": true
      },
      "execution_count": 1,
      "outputs": [
        {
          "name": "stdout",
          "text": "0\n1\n2\n3\n4\n5\n",
          "output_type": "stream"
        }
      ]
    },
    {
      "cell_type": "markdown",
      "source": "02 - crie uma lista com cinco nomes e mostre cada um e seus respectivos numeros ",
      "metadata": {}
    },
    {
      "cell_type": "code",
      "source": "nome = []\nnome=[\n    \"gabriel\",\n    \"carlos\",\n    \"felipe\",\n    \"ana julia\",\n    \"maria rita\"]\nx=0\nwhile(x<=4):\n    print(x,nome[x])\n    x += 1",
      "metadata": {
        "trusted": true
      },
      "execution_count": 5,
      "outputs": [
        {
          "name": "stdout",
          "text": "0 gabriel\n1 carlos\n2 felipe\n3 ana julia\n4 maria rita\n",
          "output_type": "stream"
        }
      ]
    },
    {
      "cell_type": "code",
      "source": "nome = []\nnome=[\n    \"gabriel\",\n    \"carlos\",\n    \"felipe\",\n    \"ana julia\",\n    \"maria rita\"]\nnome.sort()\nx=0\nwhile(x<=4):\n    print(x,nome[x])\n    x += 1",
      "metadata": {
        "trusted": true
      },
      "execution_count": 6,
      "outputs": [
        {
          "name": "stdout",
          "text": "0 ana julia\n1 carlos\n2 felipe\n3 gabriel\n4 maria rita\n",
          "output_type": "stream"
        }
      ]
    },
    {
      "cell_type": "code",
      "source": "",
      "metadata": {},
      "execution_count": null,
      "outputs": []
    }
  ]
}
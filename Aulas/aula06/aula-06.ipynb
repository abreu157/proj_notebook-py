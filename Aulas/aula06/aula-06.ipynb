{
  "metadata": {
    "language_info": {
      "codemirror_mode": {
        "name": "python",
        "version": 3
      },
      "file_extension": ".py",
      "mimetype": "text/x-python",
      "name": "python",
      "nbconvert_exporter": "python",
      "pygments_lexer": "ipython3",
      "version": "3.8"
    },
    "kernelspec": {
      "name": "python",
      "display_name": "Python (Pyodide)",
      "language": "python"
    }
  },
  "nbformat_minor": 4,
  "nbformat": 4,
  "cells": [
    {
      "cell_type": "markdown",
      "source": "01 - crie um programa que crie um objeto e um contrutor com o nome pesoa.adicione em uma lista com quatro pessoas:",
      "metadata": {}
    },
    {
      "cell_type": "code",
      "source": "class pessoa:\n    def __init__(self,nome,idade,cargo,salario):\n        self.nome = nome\n        self.idade = idade\n        self.cargo = cargo\n        self.salario = salario\n        \ncadastro = []\n\ncadastro.append(pessoa(\"Gabriel\",50,\"Diretor\",\"R$ 10.000.00\"))\ncadastro.append(pessoa(\"Carlos\",80,\"Auxiliar\",\"R$ 1.200,00\"))\ncadastro.append(pessoa(\"samuel\",40,\"assistente\",\"R$ 1.300,00\"))\ncadastro.append(pessoa(\"Enzo\",18,\"Estagiario\",\"R$ 600,00\"))\ncadastro.append(pessoa(\"manuela\",18,\"Aux. Admin\",\"R$ 1300,00\"))\n\ncadastro.sort(key=lambda x: x.nome)\n\nfor v in cadastro:\n    print(\"{:<10}{:<4}{:<12}{:<0}\".format(v.nome,v.idade,v.cargo,v.salario))",
      "metadata": {
        "trusted": true
      },
      "execution_count": 3,
      "outputs": [
        {
          "name": "stdout",
          "text": "Carlos    80  Auxiliar    R$ 1.200,00\nEnzo      18  Estagiario  R$ 600,00\nGabriel   50  Diretor     R$ 10.000.00\nmanuela   18  Aux. Admin  R$ 1300,00\nsamuel    40  assistente  R$ 1.300,00\n",
          "output_type": "stream"
        }
      ]
    },
    {
      "cell_type": "markdown",
      "source": "02 - crie um programa com uma classe carro onde possua, modelo,marca, ano, placa.Adicione tres carros: ",
      "metadata": {}
    },
    {
      "cell_type": "code",
      "source": "class pessoa:\n    def __init__(self,modelo,marca,ano,placa):\n        self.modelo = modelo\n        self.marca = marca\n        self.ano = ano\n        self.placa = placa\n        \ncadastro = []\n\ncadastro.append(pessoa(\"bmw13\",\"fiat,\"2020\",\"htxl4\"))\ncadastro.append(pessoa(\"gol quadrado\",\"volkswager\",\"2010\",\"kfuW\"))\ncadastro.append(pessoa(\"Palio\",\"fiat\",\"2002\",\"fhyu\"))\n\n\ncadastro.sort(key=lambda x: x.nome)\n\nfor v in cadastro:\n    print(\"{:<10}{:<4}{:<12}{:<0}\".format(v.modelo,v.marca,v.ano,v.placa)) ",
      "metadata": {
        "trusted": true
      },
      "execution_count": 9,
      "outputs": [
        {
          "ename": "<class 'SyntaxError'>",
          "evalue": "invalid syntax. Perhaps you forgot a comma? (<ipython-input-9-db746df1ddbf>, line 10)",
          "traceback": [
            "\u001b[0;36m  Cell \u001b[0;32mIn [9], line 10\u001b[0;36m\u001b[0m\n\u001b[0;31m    cadastro.append(pessoa(\"bmw13\",\"fiat,\"2020\",\"htxl4\"))\u001b[0m\n\u001b[0m                                   ^\u001b[0m\n\u001b[0;31mSyntaxError\u001b[0m\u001b[0;31m:\u001b[0m invalid syntax. Perhaps you forgot a comma?\n"
          ],
          "output_type": "error"
        }
      ]
    }
  ]
}